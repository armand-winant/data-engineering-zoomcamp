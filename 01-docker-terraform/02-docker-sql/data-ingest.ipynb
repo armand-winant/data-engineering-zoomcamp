{
 "cells": [
  {
   "cell_type": "code",
   "execution_count": 60,
   "metadata": {},
   "outputs": [],
   "source": [
    "import pandas as pd\n",
    "import subprocess\n",
    "import pyarrow.parquet as pq\n",
    "from sqlalchemy import create_engine\n",
    "from time import time"
   ]
  },
  {
   "cell_type": "code",
   "execution_count": 61,
   "metadata": {},
   "outputs": [],
   "source": [
    "t_start = time()"
   ]
  },
  {
   "cell_type": "code",
   "execution_count": 62,
   "metadata": {},
   "outputs": [
    {
     "data": {
      "text/plain": [
       "0.024991273880004883"
      ]
     },
     "execution_count": 62,
     "metadata": {},
     "output_type": "execute_result"
    }
   ],
   "source": [
    "time() - t_start"
   ]
  },
  {
   "cell_type": "code",
   "execution_count": 63,
   "metadata": {},
   "outputs": [],
   "source": [
    "user = \"root\"\n",
    "password = \"root\"\n",
    "host = \"localhost\"\n",
    "port = 5431\n",
    "db = \"ny_taxi\""
   ]
  },
  {
   "cell_type": "code",
   "execution_count": 64,
   "metadata": {},
   "outputs": [],
   "source": [
    "local_filename = \"ny_taxi_data.parquet\"\n",
    "url = \"https://d37ci6vzurychx.cloudfront.net/trip-data/yellow_tripdata_2021-01.parquet\"\n"
   ]
  },
  {
   "cell_type": "code",
   "execution_count": 65,
   "metadata": {},
   "outputs": [],
   "source": [
    "fetch_command = f\"curl -s -o {local_filename} {url}\"\n",
    "subprocess.run(fetch_command.split())\n",
    "parquet_file = pq.ParquetFile(local_filename)"
   ]
  },
  {
   "cell_type": "code",
   "execution_count": 66,
   "metadata": {},
   "outputs": [],
   "source": [
    "engine = create_engine(f'postgresql://{user}:{password}@{host}:{port}/{db}')"
   ]
  },
  {
   "cell_type": "code",
   "execution_count": 67,
   "metadata": {},
   "outputs": [
    {
     "name": "stdout",
     "output_type": "stream",
     "text": [
      "Upload complete: 100000 rows uploaded in 11.110 seconds.\n",
      "Upload complete: 100000 rows uploaded in 11.755 seconds.\n",
      "Upload complete: 100000 rows uploaded in 13.655 seconds.\n",
      "Upload complete: 100000 rows uploaded in 10.584 seconds.\n",
      "Upload complete: 100000 rows uploaded in 10.586 seconds.\n",
      "Upload complete: 100000 rows uploaded in 10.727 seconds.\n",
      "Upload complete: 100000 rows uploaded in 22.573 seconds.\n",
      "Upload complete: 100000 rows uploaded in 15.718 seconds.\n",
      "Upload complete: 100000 rows uploaded in 11.120 seconds.\n",
      "Upload complete: 100000 rows uploaded in 11.079 seconds.\n",
      "Upload complete: 100000 rows uploaded in 11.493 seconds.\n",
      "Upload complete: 100000 rows uploaded in 11.011 seconds.\n",
      "Upload complete: 100000 rows uploaded in 11.081 seconds.\n",
      "Upload complete: 69769 rows uploaded in 7.366 seconds.\n"
     ]
    }
   ],
   "source": [
    "for i, batch in enumerate(parquet_file.iter_batches(batch_size=100000, use_pandas_metadata=True), 1):\n",
    "  t_start = time()\n",
    "  df = batch.to_pandas()\n",
    "  df.to_sql('yellow_taxi_trips', con=engine, if_exists='append', index=False)\n",
    "  print(f\"Upload complete: {df.shape[0]} rows uploaded in {(time() - t_start):.3f} seconds.\")"
   ]
  },
  {
   "cell_type": "code",
   "execution_count": null,
   "metadata": {},
   "outputs": [],
   "source": []
  }
 ],
 "metadata": {
  "kernelspec": {
   "display_name": ".env",
   "language": "python",
   "name": "python3"
  },
  "language_info": {
   "codemirror_mode": {
    "name": "ipython",
    "version": 3
   },
   "file_extension": ".py",
   "mimetype": "text/x-python",
   "name": "python",
   "nbconvert_exporter": "python",
   "pygments_lexer": "ipython3",
   "version": "3.9.6"
  }
 },
 "nbformat": 4,
 "nbformat_minor": 2
}
